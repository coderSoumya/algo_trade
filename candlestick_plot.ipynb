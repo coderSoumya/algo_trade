{
 "cells": [
  {
   "cell_type": "code",
   "execution_count": 16,
   "id": "5e782b97",
   "metadata": {},
   "outputs": [],
   "source": [
    "import matplotlib.pyplot as plt\n",
    "from mplfinance.original_flavor import candlestick_ohlc\n",
    "import pandas as pd\n",
    "import matplotlib.dates as mpdates\n",
    "\n",
    "plt.style.use('dark_background')"
   ]
  },
  {
   "cell_type": "code",
   "execution_count": 11,
   "id": "ce526cf5",
   "metadata": {},
   "outputs": [],
   "source": [
    "df = pd.read_csv('data.csv')\n",
    "df = df[['Date', 'Open', 'High',\n",
    "         'Low', 'Close']]"
   ]
  },
  {
   "cell_type": "code",
   "execution_count": 23,
   "id": "87d87983",
   "metadata": {},
   "outputs": [],
   "source": [
    "# convert into datetime object\n",
    "df['Date'] = pd.to_datetime(df['Date'])\n",
    " \n",
    "# apply map function\n",
    "df['Date'] = df['Date'].map(mpdates.date2num)"
   ]
  },
  {
   "cell_type": "code",
   "execution_count": 27,
   "id": "0d093dad",
   "metadata": {},
   "outputs": [
    {
     "data": {
      "image/png": "[encoded data removed]",
      "text/plain": [
       "<Figure size 432x288 with 1 Axes>"
      ]
     },
     "metadata": {},
     "output_type": "display_data"
    }
   ],
   "source": [
    "fig, ax = plt.subplots()"
   ]
  },
  {
   "cell_type": "code",
   "execution_count": 25,
   "id": "7a189c16",
   "metadata": {},
   "outputs": [
    {
     "data": {
      "text/plain": [
       "([<matplotlib.lines.Line2D at 0x118da10d0>,\n",
       "  <matplotlib.lines.Line2D at 0x118363190>,\n",
       "  <matplotlib.lines.Line2D at 0x118c770a0>,\n",
       "  <matplotlib.lines.Line2D at 0x118362970>,\n",
       "  <matplotlib.lines.Line2D at 0x118c47580>,\n",
       "  <matplotlib.lines.Line2D at 0x118c47910>,\n",
       "  <matplotlib.lines.Line2D at 0x118c47df0>,\n",
       "  <matplotlib.lines.Line2D at 0x118c6c310>,\n",
       "  <matplotlib.lines.Line2D at 0x118c6c7f0>,\n",
       "  <matplotlib.lines.Line2D at 0x118c6ccd0>,\n",
       "  <matplotlib.lines.Line2D at 0x118d311f0>],\n",
       " [<matplotlib.patches.Rectangle at 0x118ce20d0>,\n",
       "  <matplotlib.patches.Rectangle at 0x118c77a90>,\n",
       "  <matplotlib.patches.Rectangle at 0x118c771c0>,\n",
       "  <matplotlib.patches.Rectangle at 0x118362280>,\n",
       "  <matplotlib.patches.Rectangle at 0x118c47790>,\n",
       "  <matplotlib.patches.Rectangle at 0x118c47a90>,\n",
       "  <matplotlib.patches.Rectangle at 0x118c47f70>,\n",
       "  <matplotlib.patches.Rectangle at 0x118c6c490>,\n",
       "  <matplotlib.patches.Rectangle at 0x118c6c970>,\n",
       "  <matplotlib.patches.Rectangle at 0x118c6ce50>,\n",
       "  <matplotlib.patches.Rectangle at 0x118d31370>])"
      ]
     },
     "execution_count": 25,
     "metadata": {},
     "output_type": "execute_result"
    }
   ],
   "source": [
    "candlestick_ohlc(ax, df.values, width = 0.6,\n",
    "                 colorup = 'green', colordown = 'red',\n",
    "                 alpha = 0.8)"
   ]
  },
  {
   "cell_type": "code",
   "execution_count": 28,
   "id": "23f2a961",
   "metadata": {},
   "outputs": [
    {
     "data": {
      "image/png": "[encoded data removed]",
      "text/plain": [
       "<Figure size 432x288 with 1 Axes>"
      ]
     },
     "metadata": {},
     "output_type": "display_data"
    }
   ],
   "source": [
    "# allow grid\n",
    "ax.grid(True)\n",
    " \n",
    "# Setting labels\n",
    "ax.set_xlabel('Date')\n",
    "ax.set_ylabel('Price')\n",
    " \n",
    "# setting title\n",
    "plt.title('Prices For the Period 01-07-2020 to 15-07-2020')\n",
    " \n",
    "# Formatting Date\n",
    "date_format = mpdates.DateFormatter('%d-%m-%Y')\n",
    "ax.xaxis.set_major_formatter(date_format)\n",
    "fig.autofmt_xdate()\n",
    " \n",
    "fig.tight_layout()\n",
    "plt.show()"
   ]
  },
  {
   "cell_type": "code",
   "execution_count": null,
   "id": "46244af6",
   "metadata": {},
   "outputs": [],
   "source": []
  }
 ],
 "metadata": {
  "kernelspec": {
   "display_name": "Python 3.9.13 64-bit",
   "language": "python",
   "name": "python3"
  },
  "language_info": {
   "codemirror_mode": {
    "name": "ipython",
    "version": 3
   },
   "file_extension": ".py",
   "mimetype": "text/x-python",
   "name": "python",
   "nbconvert_exporter": "python",
   "pygments_lexer": "ipython3",
   "version": "3.9.13"
  },
  "vscode": {
   "interpreter": {
    "hash": "aee8b7b246df8f9039afb4144a1f6fd8d2ca17a180786b69acc140d282b71a49"
   }
  }
 },
 "nbformat": 4,
 "nbformat_minor": 5
}
